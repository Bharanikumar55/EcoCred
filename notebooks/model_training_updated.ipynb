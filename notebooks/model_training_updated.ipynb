{
 "cells": [
  {
   "cell_type": "code",
   "execution_count": 5,
   "id": "01c0ab39",
   "metadata": {},
   "outputs": [],
   "source": [
    "import pandas as pd\n",
    "\n",
    "df = pd.read_csv(\"../updated_midoriloan_data.csv\")\n"
   ]
  },
  {
   "cell_type": "code",
   "execution_count": null,
   "id": "74c61a8e",
   "metadata": {},
   "outputs": [],
   "source": [
    "from sklearn.preprocessing import LabelEncoder\n",
    "\n",
    "# Make a copy of the DataFrame to avoid modifying the original\n",
    "df_encoded = df.copy()\n",
    "#Label encode categorical columns\n",
    "for col in ['fuel_type', 'job_type', 'loan_history']:\n",
    "    le = LabelEncoder()\n",
    "    df_encoded[col] = le.fit_transform(df_encoded[col])\n"
   ]
  },
  {
   "cell_type": "code",
   "execution_count": null,
   "id": "06655010",
   "metadata": {},
   "outputs": [],
   "source": [
    "\n",
    "# Split the DataFrame into features and target variable\n",
    "# Assuming 'loan_status' is the target variable\n",
    "X = df_encoded.drop(\"loan_status\", axis=1)\n",
    "y = df_encoded[\"loan_status\"]\n"
   ]
  },
  {
   "cell_type": "code",
   "execution_count": null,
   "id": "a7d202aa",
   "metadata": {},
   "outputs": [
    {
     "name": "stdout",
     "output_type": "stream",
     "text": [
      "              precision    recall  f1-score   support\n",
      "\n",
      "           0       0.38      0.15      0.21       527\n",
      "           1       0.75      0.91      0.82      1473\n",
      "\n",
      "    accuracy                           0.71      2000\n",
      "   macro avg       0.56      0.53      0.52      2000\n",
      "weighted avg       0.65      0.71      0.66      2000\n",
      "\n"
     ]
    }
   ],
   "source": [
    "from sklearn.model_selection import train_test_split\n",
    "from sklearn.ensemble import RandomForestClassifier\n",
    "from sklearn.metrics import classification_report\n",
    "#training the model\n",
    "X_train, X_test, y_train, y_test = train_test_split(X, y, test_size=0.2, random_state=42)\n",
    "\n",
    "model = RandomForestClassifier(n_estimators=100, random_state=42)\n",
    "model.fit(X_train, y_train)\n",
    "\n",
    "y_pred = model.predict(X_test)\n",
    "print(classification_report(y_test, y_pred))\n"
   ]
  },
  {
   "cell_type": "code",
   "execution_count": null,
   "id": "13eedf9d",
   "metadata": {},
   "outputs": [
    {
     "data": {
      "text/plain": [
       "['loan_model.pkl']"
      ]
     },
     "execution_count": 9,
     "metadata": {},
     "output_type": "execute_result"
    }
   ],
   "source": [
    "#Saving the model in pickle format\n",
    "import joblib\n",
    "joblib.dump(model, \"loan_model.pkl\")\n"
   ]
  },
  {
   "cell_type": "code",
   "execution_count": null,
   "id": "97ee32e9",
   "metadata": {},
   "outputs": [],
   "source": []
  }
 ],
 "metadata": {
  "kernelspec": {
   "display_name": "Python 3",
   "language": "python",
   "name": "python3"
  },
  "language_info": {
   "codemirror_mode": {
    "name": "ipython",
    "version": 3
   },
   "file_extension": ".py",
   "mimetype": "text/x-python",
   "name": "python",
   "nbconvert_exporter": "python",
   "pygments_lexer": "ipython3",
   "version": "3.12.3"
  }
 },
 "nbformat": 4,
 "nbformat_minor": 5
}
