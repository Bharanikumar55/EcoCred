{
 "cells": [
  {
   "cell_type": "code",
   "execution_count": 2,
   "id": "cfdff51c",
   "metadata": {},
   "outputs": [
    {
     "name": "stdout",
     "output_type": "stream",
     "text": [
      "✅ Saved as midoriloan_balanced.csv, shape = (5814, 6)\n"
     ]
    }
   ],
   "source": [
    "import pandas as pd\n",
    "\n",
    "# Load original 10,000-row cleaned file\n",
    "df = pd.read_csv(\"clean_midoriloan_data.csv\")\n",
    "\n",
    "# Separate approved and rejected\n",
    "approved = df[df['loan_status'] == 1]\n",
    "rejected = df[df['loan_status'] == 0]\n",
    "\n",
    "# Keep only 3000 approved loans\n",
    "approved_sampled = approved.sample(n=3000, random_state=42)\n",
    "\n",
    "# Combine approved and rejected\n",
    "df_rebalanced = pd.concat([approved_sampled, rejected], axis=0)\n",
    "\n",
    "# Shuffle rows\n",
    "df_rebalanced = df_rebalanced.sample(frac=1, random_state=42).reset_index(drop=True)\n",
    "\n",
    "# (Optional) Add 2-3 clearly rejected test rows\n",
    "extra_rows = [\n",
    "    [25000, 500000, 550, 0, 0, 0],\n",
    "    [28000, 450000, 600, 1, 0, 0],\n",
    "    [30000, 400000, 570, 0, 1, 0]\n",
    "]\n",
    "for row in extra_rows:\n",
    "    df_rebalanced.loc[len(df_rebalanced)] = row\n",
    "\n",
    "# Save new file\n",
    "df_rebalanced.to_csv(\"midoriloan_balanced.csv\", index=False)\n",
    "\n",
    "print(\"✅ Saved as midoriloan_balanced.csv, shape =\", df_rebalanced.shape)\n"
   ]
  },
  {
   "cell_type": "code",
   "execution_count": 3,
   "id": "a1507720",
   "metadata": {},
   "outputs": [],
   "source": [
    "more_rejected = [\n",
    "    [25000, 450000, 580, 1, 0, 0],\n",
    "    [26000, 400000, 570, 0, 1, 0],\n",
    "    [28000, 380000, 530, 1, 0, 0],\n",
    "    [30000, 350000, 600, 0, 0, 0],\n",
    "    [22000, 300000, 590, 1, 1, 0],\n",
    "    [27000, 420000, 610, 0, 0, 0],\n",
    "    [24000, 470000, 545, 1, 1, 0],\n",
    "    [29000, 390000, 560, 0, 0, 0],\n",
    "    [31000, 410000, 500, 0, 0, 0],\n",
    "    [20000, 500000, 610, 1, 0, 0]\n",
    "]\n",
    "\n",
    "for row in more_rejected:\n",
    "    df_rebalanced.loc[len(df_rebalanced)] = row\n",
    "df_rebalanced.to_csv(\"midoriloan_balanced.csv\", index=False)\n"
   ]
  }
 ],
 "metadata": {
  "kernelspec": {
   "display_name": "Python 3",
   "language": "python",
   "name": "python3"
  },
  "language_info": {
   "codemirror_mode": {
    "name": "ipython",
    "version": 3
   },
   "file_extension": ".py",
   "mimetype": "text/x-python",
   "name": "python",
   "nbconvert_exporter": "python",
   "pygments_lexer": "ipython3",
   "version": "3.12.3"
  }
 },
 "nbformat": 4,
 "nbformat_minor": 5
}
