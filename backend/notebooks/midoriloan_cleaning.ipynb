{
 "cells": [
  {
   "cell_type": "code",
   "execution_count": 3,
   "id": "421b5b09",
   "metadata": {},
   "outputs": [
    {
     "data": {
      "text/html": [
       "<div>\n",
       "<style scoped>\n",
       "    .dataframe tbody tr th:only-of-type {\n",
       "        vertical-align: middle;\n",
       "    }\n",
       "\n",
       "    .dataframe tbody tr th {\n",
       "        vertical-align: top;\n",
       "    }\n",
       "\n",
       "    .dataframe thead th {\n",
       "        text-align: right;\n",
       "    }\n",
       "</style>\n",
       "<table border=\"1\" class=\"dataframe\">\n",
       "  <thead>\n",
       "    <tr style=\"text-align: right;\">\n",
       "      <th></th>\n",
       "      <th>loan_amnt</th>\n",
       "      <th>term</th>\n",
       "      <th>emp_length</th>\n",
       "      <th>home_ownership</th>\n",
       "      <th>annual_inc</th>\n",
       "      <th>loan_status</th>\n",
       "      <th>purpose</th>\n",
       "    </tr>\n",
       "  </thead>\n",
       "  <tbody>\n",
       "    <tr>\n",
       "      <th>0</th>\n",
       "      <td>3600.0</td>\n",
       "      <td>36 months</td>\n",
       "      <td>10+ years</td>\n",
       "      <td>MORTGAGE</td>\n",
       "      <td>55000.0</td>\n",
       "      <td>Fully Paid</td>\n",
       "      <td>debt_consolidation</td>\n",
       "    </tr>\n",
       "    <tr>\n",
       "      <th>1</th>\n",
       "      <td>24700.0</td>\n",
       "      <td>36 months</td>\n",
       "      <td>10+ years</td>\n",
       "      <td>MORTGAGE</td>\n",
       "      <td>65000.0</td>\n",
       "      <td>Fully Paid</td>\n",
       "      <td>small_business</td>\n",
       "    </tr>\n",
       "    <tr>\n",
       "      <th>2</th>\n",
       "      <td>20000.0</td>\n",
       "      <td>60 months</td>\n",
       "      <td>10+ years</td>\n",
       "      <td>MORTGAGE</td>\n",
       "      <td>63000.0</td>\n",
       "      <td>Fully Paid</td>\n",
       "      <td>home_improvement</td>\n",
       "    </tr>\n",
       "    <tr>\n",
       "      <th>3</th>\n",
       "      <td>35000.0</td>\n",
       "      <td>60 months</td>\n",
       "      <td>10+ years</td>\n",
       "      <td>MORTGAGE</td>\n",
       "      <td>110000.0</td>\n",
       "      <td>Current</td>\n",
       "      <td>debt_consolidation</td>\n",
       "    </tr>\n",
       "    <tr>\n",
       "      <th>4</th>\n",
       "      <td>10400.0</td>\n",
       "      <td>60 months</td>\n",
       "      <td>3 years</td>\n",
       "      <td>MORTGAGE</td>\n",
       "      <td>104433.0</td>\n",
       "      <td>Fully Paid</td>\n",
       "      <td>major_purchase</td>\n",
       "    </tr>\n",
       "  </tbody>\n",
       "</table>\n",
       "</div>"
      ],
      "text/plain": [
       "   loan_amnt        term emp_length home_ownership  annual_inc loan_status  \\\n",
       "0     3600.0   36 months  10+ years       MORTGAGE     55000.0  Fully Paid   \n",
       "1    24700.0   36 months  10+ years       MORTGAGE     65000.0  Fully Paid   \n",
       "2    20000.0   60 months  10+ years       MORTGAGE     63000.0  Fully Paid   \n",
       "3    35000.0   60 months  10+ years       MORTGAGE    110000.0     Current   \n",
       "4    10400.0   60 months    3 years       MORTGAGE    104433.0  Fully Paid   \n",
       "\n",
       "              purpose  \n",
       "0  debt_consolidation  \n",
       "1      small_business  \n",
       "2    home_improvement  \n",
       "3  debt_consolidation  \n",
       "4      major_purchase  "
      ]
     },
     "execution_count": 3,
     "metadata": {},
     "output_type": "execute_result"
    }
   ],
   "source": [
    "import pandas as pd\n",
    "\n",
    "columns_needed = [\n",
    "    'loan_amnt',\n",
    "    'annual_inc',\n",
    "    'loan_status',\n",
    "    'term',\n",
    "    'emp_length',\n",
    "    'home_ownership',\n",
    "    'purpose'\n",
    "]\n",
    "\n",
    "df = pd.read_csv(\"lending_club.csv\", usecols=columns_needed, nrows=10000)\n",
    "df.head()\n"
   ]
  },
  {
   "cell_type": "code",
   "execution_count": 4,
   "id": "d8d4dfec",
   "metadata": {},
   "outputs": [],
   "source": [
    "df.rename(columns={\n",
    "    'loan_amnt': 'loan_amount',\n",
    "    'annual_inc': 'income'\n",
    "}, inplace=True)\n"
   ]
  },
  {
   "cell_type": "code",
   "execution_count": 5,
   "id": "7c7fb9dc",
   "metadata": {},
   "outputs": [],
   "source": [
    "df.dropna(subset=['loan_amount', 'income', 'loan_status'], inplace=True)\n"
   ]
  },
  {
   "cell_type": "code",
   "execution_count": 6,
   "id": "db540461",
   "metadata": {},
   "outputs": [],
   "source": [
    "df['loan_status'] = df['loan_status'].apply(lambda x: 1 if 'Fully Paid' in x else 0)\n"
   ]
  },
  {
   "cell_type": "code",
   "execution_count": 8,
   "id": "558f65b1",
   "metadata": {},
   "outputs": [],
   "source": [
    "import numpy as np\n",
    "\n",
    "df['vehicle_type'] = np.random.choice(['bike', 'car'], size=len(df))\n",
    "df['monthly_units'] = np.random.randint(100, 600, size=len(df))  # fake units between 100–600\n"
   ]
  },
  {
   "cell_type": "code",
   "execution_count": 9,
   "id": "c0217232",
   "metadata": {},
   "outputs": [],
   "source": [
    "def get_eco_score(vehicle, units):\n",
    "    score = 0\n",
    "    if vehicle == 'bike':\n",
    "        score += 1\n",
    "    if units < 300:\n",
    "        score += 1\n",
    "    return score\n",
    "\n",
    "df['eco_score'] = df.apply(lambda row: get_eco_score(row['vehicle_type'], row['monthly_units']), axis=1)\n"
   ]
  },
  {
   "cell_type": "code",
   "execution_count": 10,
   "id": "03592f80",
   "metadata": {},
   "outputs": [],
   "source": [
    "from sklearn.preprocessing import LabelEncoder\n",
    "\n",
    "le = LabelEncoder()\n",
    "df['vehicle_type'] = le.fit_transform(df['vehicle_type'])  # bike=0, car=1\n"
   ]
  },
  {
   "cell_type": "code",
   "execution_count": 11,
   "id": "d7e390b6",
   "metadata": {},
   "outputs": [
    {
     "data": {
      "text/html": [
       "<div>\n",
       "<style scoped>\n",
       "    .dataframe tbody tr th:only-of-type {\n",
       "        vertical-align: middle;\n",
       "    }\n",
       "\n",
       "    .dataframe tbody tr th {\n",
       "        vertical-align: top;\n",
       "    }\n",
       "\n",
       "    .dataframe thead th {\n",
       "        text-align: right;\n",
       "    }\n",
       "</style>\n",
       "<table border=\"1\" class=\"dataframe\">\n",
       "  <thead>\n",
       "    <tr style=\"text-align: right;\">\n",
       "      <th></th>\n",
       "      <th>income</th>\n",
       "      <th>loan_amount</th>\n",
       "      <th>monthly_units</th>\n",
       "      <th>vehicle_type</th>\n",
       "      <th>eco_score</th>\n",
       "      <th>loan_status</th>\n",
       "    </tr>\n",
       "  </thead>\n",
       "  <tbody>\n",
       "    <tr>\n",
       "      <th>0</th>\n",
       "      <td>55000.0</td>\n",
       "      <td>3600.0</td>\n",
       "      <td>533</td>\n",
       "      <td>1</td>\n",
       "      <td>0</td>\n",
       "      <td>1</td>\n",
       "    </tr>\n",
       "    <tr>\n",
       "      <th>1</th>\n",
       "      <td>65000.0</td>\n",
       "      <td>24700.0</td>\n",
       "      <td>540</td>\n",
       "      <td>1</td>\n",
       "      <td>0</td>\n",
       "      <td>1</td>\n",
       "    </tr>\n",
       "    <tr>\n",
       "      <th>2</th>\n",
       "      <td>63000.0</td>\n",
       "      <td>20000.0</td>\n",
       "      <td>416</td>\n",
       "      <td>0</td>\n",
       "      <td>1</td>\n",
       "      <td>1</td>\n",
       "    </tr>\n",
       "    <tr>\n",
       "      <th>3</th>\n",
       "      <td>110000.0</td>\n",
       "      <td>35000.0</td>\n",
       "      <td>237</td>\n",
       "      <td>0</td>\n",
       "      <td>2</td>\n",
       "      <td>0</td>\n",
       "    </tr>\n",
       "    <tr>\n",
       "      <th>4</th>\n",
       "      <td>104433.0</td>\n",
       "      <td>10400.0</td>\n",
       "      <td>220</td>\n",
       "      <td>0</td>\n",
       "      <td>2</td>\n",
       "      <td>1</td>\n",
       "    </tr>\n",
       "  </tbody>\n",
       "</table>\n",
       "</div>"
      ],
      "text/plain": [
       "     income  loan_amount  monthly_units  vehicle_type  eco_score  loan_status\n",
       "0   55000.0       3600.0            533             1          0            1\n",
       "1   65000.0      24700.0            540             1          0            1\n",
       "2   63000.0      20000.0            416             0          1            1\n",
       "3  110000.0      35000.0            237             0          2            0\n",
       "4  104433.0      10400.0            220             0          2            1"
      ]
     },
     "execution_count": 11,
     "metadata": {},
     "output_type": "execute_result"
    }
   ],
   "source": [
    "df_final = df[['income', 'loan_amount', 'monthly_units', 'vehicle_type', 'eco_score', 'loan_status']]\n",
    "df_final.head()\n"
   ]
  },
  {
   "cell_type": "code",
   "execution_count": 12,
   "id": "94aa0d89",
   "metadata": {},
   "outputs": [],
   "source": [
    "df_final.to_csv(\"clean_midoriloan_data.csv\", index=False)\n"
   ]
  }
 ],
 "metadata": {
  "kernelspec": {
   "display_name": "Python 3",
   "language": "python",
   "name": "python3"
  },
  "language_info": {
   "codemirror_mode": {
    "name": "ipython",
    "version": 3
   },
   "file_extension": ".py",
   "mimetype": "text/x-python",
   "name": "python",
   "nbconvert_exporter": "python",
   "pygments_lexer": "ipython3",
   "version": "3.12.3"
  }
 },
 "nbformat": 4,
 "nbformat_minor": 5
}
